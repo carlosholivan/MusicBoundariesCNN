{
 "cells": [
  {
   "cell_type": "code",
   "execution_count": 1,
   "id": "stable-colleague",
   "metadata": {},
   "outputs": [],
   "source": [
    "import sys\n",
    "sys.path.append('..')\n",
    "from boundariesdetectioncnn.data import dataloaders"
   ]
  },
  {
   "cell_type": "code",
   "execution_count": 2,
   "id": "protecting-carroll",
   "metadata": {},
   "outputs": [],
   "source": [
    "from pathlib import Path\n",
    "im_path_mel = \"../Inputs/TEST/np MLS/\"\n",
    "labels_path = Path(\"H:/INVESTIGACION/Datasets/MusicStructure/SALAMI/annotations/\")\n",
    "batch_size = 1\n",
    "\n",
    "mels_dataset, mels_trainloader = dataloaders.build_dataloader(batch_size, im_path_mel, labels_path)"
   ]
  },
  {
   "cell_type": "code",
   "execution_count": 3,
   "id": "social-magic",
   "metadata": {},
   "outputs": [
    {
     "data": {
      "text/plain": [
       "206"
      ]
     },
     "execution_count": 3,
     "metadata": {},
     "output_type": "execute_result"
    }
   ],
   "source": [
    "len(mels_trainloader)"
   ]
  },
  {
   "cell_type": "code",
   "execution_count": 8,
   "id": "appointed-underground",
   "metadata": {},
   "outputs": [],
   "source": [
    "assert len(mels_dataset) > 0"
   ]
  },
  {
   "cell_type": "code",
   "execution_count": null,
   "id": "approved-missile",
   "metadata": {},
   "outputs": [],
   "source": []
  }
 ],
 "metadata": {
  "kernelspec": {
   "display_name": "Python 3",
   "language": "python",
   "name": "python3"
  },
  "language_info": {
   "codemirror_mode": {
    "name": "ipython",
    "version": 3
   },
   "file_extension": ".py",
   "mimetype": "text/x-python",
   "name": "python",
   "nbconvert_exporter": "python",
   "pygments_lexer": "ipython3",
   "version": "3.8.3"
  }
 },
 "nbformat": 4,
 "nbformat_minor": 5
}
