{
 "cells": [
  {
   "cell_type": "code",
   "execution_count": 1,
   "id": "bronze-smoke",
   "metadata": {},
   "outputs": [],
   "source": [
    "import sys\n",
    "sys.path.append('..')\n",
    "from boundariesdetectioncnn.train import train_model\n",
    "\n",
    "import os"
   ]
  },
  {
   "cell_type": "code",
   "execution_count": 2,
   "id": "described-answer",
   "metadata": {},
   "outputs": [
    {
     "name": "stderr",
     "output_type": "stream",
     "text": [
      "\r",
      "  0%|                                                                                          | 0/650 [00:00<?, ?it/s]"
     ]
    },
    {
     "name": "stdout",
     "output_type": "stream",
     "text": [
      "Input data imported in 4.86s\n",
      "============================MODEL=====================================\n",
      "Total SSLMs cargadas para entrenamiento: 650\n",
      "Total SSLMs cargadas para validacion: 150\n",
      "==========================TRAINING====================================\n",
      "Epoch: 1\n"
     ]
    },
    {
     "name": "stderr",
     "output_type": "stream",
     "text": [
      "  1%|▊                                                         | 9/650 [00:01<01:11,  8.91it/s, accuracy=0, loss=0.556]C:\\ProgramData\\Anaconda3\\lib\\site-packages\\mir_eval\\segment.py:120: UserWarning: Estimated intervals are empty.\n",
      "  warnings.warn(\"Estimated intervals are empty.\")\n",
      "100%|████████████████████████████████████████████████████████| 650/650 [00:58<00:00, 11.20it/s, accuracy=0, loss=0.266]\n"
     ]
    },
    {
     "name": "stdout",
     "output_type": "stream",
     "text": [
      "training_accuracy=0.00  training_loss=0.30\n",
      "\n",
      "validation_accuracy=0.00  validation_loss=0.28\n",
      "\n",
      "Training finished in 66.36s\n"
     ]
    }
   ],
   "source": [
    "model = \"mels\"\n",
    "\n",
    "train_model.run_training(model=model, epochs=2, save_epoch=1)\n",
    "\n",
    "assert os.path.exists(\"../weights/saved_model_1epochs.bin\")"
   ]
  },
  {
   "cell_type": "code",
   "execution_count": null,
   "id": "ordered-trick",
   "metadata": {},
   "outputs": [],
   "source": []
  },
  {
   "cell_type": "code",
   "execution_count": null,
   "id": "prerequisite-repair",
   "metadata": {},
   "outputs": [],
   "source": []
  }
 ],
 "metadata": {
  "kernelspec": {
   "display_name": "Python 3",
   "language": "python",
   "name": "python3"
  },
  "language_info": {
   "codemirror_mode": {
    "name": "ipython",
    "version": 3
   },
   "file_extension": ".py",
   "mimetype": "text/x-python",
   "name": "python",
   "nbconvert_exporter": "python",
   "pygments_lexer": "ipython3",
   "version": "3.8.3"
  }
 },
 "nbformat": 4,
 "nbformat_minor": 5
}
